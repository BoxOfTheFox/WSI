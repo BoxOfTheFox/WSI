{
 "cells": [
  {
   "cell_type": "code",
   "execution_count": 3,
   "id": "d24d066a-d73c-45a5-8373-a5424430a280",
   "metadata": {},
   "outputs": [
    {
     "name": "stdout",
     "output_type": "stream",
     "text": [
      "weights: [8 3 5 2]\n",
      "values: [16  8  9  6]\n",
      "max weight: 9\n",
      "0b110 17 8\n",
      "weights: [5 8 3 2]\n",
      "values: [ 9 16  8  6]\n",
      "max weight: 9\n",
      "0b101 17 8\n",
      "weights: [2 3 8 5]\n",
      "values: [ 6  8 16  9]\n",
      "max weight: 9\n",
      "0b1010 17 8\n"
     ]
    }
   ],
   "source": [
    "import numpy\n",
    "\n",
    "\n",
    "def bits(n: int):\n",
    "    while n:\n",
    "        b = n & (~n + 1)\n",
    "        yield int(numpy.log2(b))\n",
    "        n ^= b\n",
    "\n",
    "\n",
    "def brute(\n",
    "        w=numpy.array([8, 3, 5, 2]),  # waga ModalDiaprzedmiotów\n",
    "        W=9,  # maksymalna waga plecaka\n",
    "        p=numpy.array([16, 8, 9, 6]),  # wartość przedmiotów\n",
    "        sort_type=None,\n",
    "        debug=False\n",
    ") -> (int, int, int):\n",
    "\n",
    "    best_value = 0\n",
    "    best_space = 0\n",
    "    best_weight = 0\n",
    "\n",
    "    if 'inc' == sort_type:\n",
    "        array_mapping = (p/w).argsort()\n",
    "    elif 'dec' == sort_type:\n",
    "        array_mapping = (-p/w).argsort()\n",
    "    else:\n",
    "        array_mapping = numpy.arange(0, len(w))\n",
    "\n",
    "    w = w[array_mapping]\n",
    "    p = p[array_mapping]\n",
    "    \n",
    "    if debug:\n",
    "        print('weights:', w)\n",
    "        print(\"values:\", p)\n",
    "        print(\"max weight:\", W)\n",
    "\n",
    "    for space in range(2 ** len(w)):\n",
    "        new_weight = 0\n",
    "        new_value = 0\n",
    "\n",
    "        for position in bits(space):\n",
    "            new_weight += w[position]\n",
    "            if W < new_weight:\n",
    "                break\n",
    "            new_value += p[position]\n",
    "\n",
    "        if W >= new_weight and best_value < new_value:\n",
    "            best_value = new_value\n",
    "            best_space = space\n",
    "            best_weight = new_weight\n",
    "    \n",
    "    if debug:\n",
    "        print(bin(best_space), best_value, best_weight)\n",
    "\n",
    "    return bin(best_space), best_value, best_weight\n",
    "\n",
    "\n",
    "if __name__ == '__main__':\n",
    "    brute(debug=True,sort_type=None)\n",
    "    brute(debug=True,sort_type='inc')\n",
    "    brute(debug=True,sort_type='dec')\n"
   ]
  },
  {
   "cell_type": "code",
   "execution_count": 12,
   "id": "fc257e09-6c12-4fff-9687-249bb24711fe",
   "metadata": {},
   "outputs": [
    {
     "name": "stdout",
     "output_type": "stream",
     "text": [
      "('0b110', 17, 8)\n",
      "('0b101', 17, 8)\n",
      "('0b1010', 17, 8)\n"
     ]
    }
   ],
   "source": [
    "import numba\n",
    "import numpy\n",
    "\n",
    "\n",
    "@numba.jit(nopython=True)\n",
    "def bits(n: int):\n",
    "    while n:\n",
    "        b = n & (~n + 1)\n",
    "        yield int(numpy.log2(b))\n",
    "        n ^= b\n",
    "\n",
    "\n",
    "@numba.jit(nopython=True)\n",
    "def core(W, p, w):\n",
    "    best_value = 0\n",
    "    best_space = 0\n",
    "    best_weight = 0\n",
    "\n",
    "    for space in range(2 ** len(w)):\n",
    "        new_weight = 0\n",
    "        new_value = 0\n",
    "\n",
    "        for position in bits(space):\n",
    "            new_weight += w[position]\n",
    "            if W < new_weight:\n",
    "                break\n",
    "            new_value += p[position]\n",
    "\n",
    "        if W >= new_weight and best_value < new_value:\n",
    "            best_value = new_value\n",
    "            best_space = space\n",
    "            best_weight = new_weight\n",
    "\n",
    "    return best_space, best_value, best_weight\n",
    "\n",
    "\n",
    "def brute_fast(\n",
    "        w=numpy.array([8, 3, 5, 2]),  # waga przedmiotów\n",
    "        W=9,  # maksymalna waga plecaka\n",
    "        p=numpy.array([16, 8, 9, 6]),  # wartość przedmiotów\n",
    "        sort_type=None\n",
    ") -> (int, int, int):\n",
    "\n",
    "    if 'inc' == sort_type:\n",
    "        array_mapping = (p / w).argsort()\n",
    "    elif 'dec' == sort_type:\n",
    "        array_mapping = (-p / w).argsort()\n",
    "    else:\n",
    "        array_mapping = numpy.arange(0, len(w))\n",
    "\n",
    "    w = w[array_mapping]\n",
    "    p = p[array_mapping]\n",
    "\n",
    "    best_space, best_value, best_weight = core(W, p, w)\n",
    "\n",
    "    return bin(best_space), best_value, best_weight\n",
    "\n",
    "\n",
    "if __name__ == '__main__':\n",
    "    print(brute_fast())\n",
    "    print(brute_fast(sort_type='inc'))\n",
    "    print(brute_fast(sort_type='dec'))\n"
   ]
  },
  {
   "cell_type": "code",
   "execution_count": 22,
   "id": "e011c68e-14b2-4c82-9efe-ba65e628db72",
   "metadata": {},
   "outputs": [
    {
     "name": "stdout",
     "output_type": "stream",
     "text": [
      "('0b11', 14, 5)\n"
     ]
    }
   ],
   "source": [
    "import numba\n",
    "import numpy\n",
    "\n",
    "\n",
    "@numba.jit(nopython=True)\n",
    "def core(W, p, w):\n",
    "    best_value = 0\n",
    "    best_space = 0\n",
    "    best_weight = 0\n",
    "\n",
    "    for i in range(len(p)):\n",
    "        if best_weight + w[i] < W:\n",
    "            best_value += p[i]\n",
    "            best_weight += w[i]\n",
    "            best_space += 2**i\n",
    "        if best_weight > W:\n",
    "            break\n",
    "\n",
    "    return best_space, best_value, best_weight\n",
    "\n",
    "\n",
    "def brute_h_fast(\n",
    "        w=numpy.array([8, 3, 5, 2]),  # waga przedmiotów\n",
    "        W=9,  # maksymalna waga plecaka\n",
    "        p=numpy.array([16, 8, 9, 6]),  # wartość przedmiotów\n",
    "        sort_type=None\n",
    ") -> (int, int, int):\n",
    "    if 'inc' == sort_type:\n",
    "        array_mapping = (p / w).argsort()\n",
    "    elif 'dec' == sort_type:\n",
    "        array_mapping = (-p / w).argsort()\n",
    "    else:\n",
    "        array_mapping = numpy.arange(0, len(w))\n",
    "\n",
    "    w = w[array_mapping]\n",
    "    p = p[array_mapping]\n",
    "\n",
    "    best_space, best_value, best_weight = core(W, p, w)\n",
    "\n",
    "    return bin(best_space), best_value, best_weight\n",
    "\n",
    "\n",
    "if __name__ == '__main__':\n",
    "    print(brute_h_fast(sort_type='dec'))\n"
   ]
  },
  {
   "cell_type": "code",
   "execution_count": 24,
   "id": "0f46a8d0-ae07-4c6c-9871-aba906dfc7e9",
   "metadata": {},
   "outputs": [
    {
     "name": "stdout",
     "output_type": "stream",
     "text": [
      "CPU times: user 508 µs, sys: 33 µs, total: 541 µs\n",
      "Wall time: 391 µs\n",
      "CPU times: user 347 µs, sys: 23 µs, total: 370 µs\n",
      "Wall time: 325 µs\n"
     ]
    },
    {
     "data": {
      "text/plain": [
       "('0b10000011111111111', 715, 320)"
      ]
     },
     "execution_count": 24,
     "metadata": {},
     "output_type": "execute_result"
    }
   ],
   "source": [
    "import random\n",
    "\n",
    "random.seed()\n",
    "numpy.random.seed()\n",
    "\n",
    "w = numpy.random.randint(1, 100, 39)  # waga przedmiotów\n",
    "p = numpy.random.randint(1, 100, 39)  # wartość przedmiotów\n",
    "\n",
    "# %time brute(w=w,W=int(numpy.mean(w)*6),p=p,sort_type='dec')\n",
    "%time brute_fast(w=w,W=int(numpy.mean(w)*6),p=p,sort_type='inc')\n",
    "%time brute_h_fast(w=w,W=int(numpy.mean(w)*6),p=p,sort_type='dec')\n",
    "# %time brute_h_fast(sort_type='dec')\n"
   ]
  },
  {
   "cell_type": "markdown",
   "id": "f0002e1d-366c-402c-8b8f-cf3bf7df5174",
   "metadata": {},
   "source": []
  }
 ],
 "metadata": {
  "kernelspec": {
   "display_name": "Python 3",
   "language": "python",
   "name": "python3"
  },
  "language_info": {
   "codemirror_mode": {
    "name": "ipython",
    "version": 3
   },
   "file_extension": ".py",
   "mimetype": "text/x-python",
   "name": "python",
   "nbconvert_exporter": "python",
   "pygments_lexer": "ipython3",
   "version": "3.6.15"
  }
 },
 "nbformat": 4,
 "nbformat_minor": 5
}
